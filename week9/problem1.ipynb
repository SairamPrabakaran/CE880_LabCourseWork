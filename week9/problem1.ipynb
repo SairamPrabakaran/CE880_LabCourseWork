{
  "cells": [
    {
      "cell_type": "markdown",
      "metadata": {
        "id": "view-in-github",
        "colab_type": "text"
      },
      "source": [
        "<a href=\"https://colab.research.google.com/github/SairamPrabakaran/CE880_LabCourseWork/blob/main/problem1.ipynb\" target=\"_parent\"><img src=\"https://colab.research.google.com/assets/colab-badge.svg\" alt=\"Open In Colab\"/></a>"
      ]
    },
    {
      "cell_type": "markdown",
      "metadata": {
        "id": "kx9ZRSKRHX67"
      },
      "source": [
        "Before you turn this problem in, make sure everything runs as expected. First, **restart the kernel** (in the menubar, select Kernel$\\rightarrow$Restart) and then **run all cells** (in the menubar, select Cell$\\rightarrow$Run All).\n",
        "\n",
        "Make sure you fill in any place that says `YOUR CODE HERE` or \"YOUR ANSWER HERE\", as well as your name and collaborators below:"
      ]
    },
    {
      "cell_type": "code",
      "execution_count": null,
      "metadata": {
        "id": "1sn4Nr5lHX6_"
      },
      "outputs": [],
      "source": [
        "NAME = \"2315589\"\n",
        "COLLABORATORS = \"sagihaider\""
      ]
    },
    {
      "cell_type": "markdown",
      "metadata": {
        "id": "hmXOMqvNHX7B"
      },
      "source": [
        "---"
      ]
    },
    {
      "cell_type": "markdown",
      "metadata": {
        "id": "cP_ChNbqHX7B"
      },
      "source": [
        "---\n",
        "# Welcome to CE880\n",
        "### This is your week-9 : Problem notebook\n"
      ]
    },
    {
      "cell_type": "markdown",
      "metadata": {
        "id": "2FqoJNLuHX7B"
      },
      "source": [
        "---\n",
        "## Question 1:\n",
        "\n",
        "#### Balancing Imbalance Dataset\n",
        "An imbalanced dataset is a dataset where the distribution of `classes (or labels)` is skewed, meaning that one class has significantly more instances than the other class(es). This can lead to issues when training machine learning models, as they may become biased towards the majority class and perform poorly on predicting the minority class.\n",
        "\n",
        "To balance an imbalanced dataset using a basic approach, one common technique is random undersampling, where instances from the majority class are randomly removed until the dataset is balanced. Write a Python function to perform random undersampling:"
      ]
    },
    {
      "cell_type": "code",
      "execution_count": null,
      "metadata": {
        "deletable": false,
        "nbgrader": {
          "cell_type": "code",
          "checksum": "a2b351e50b3dbee7097b40120b95cdea",
          "grade": false,
          "grade_id": "my_model_ans",
          "locked": false,
          "schema_version": 3,
          "solution": true,
          "task": false
        },
        "id": "xPJaeKbIHX7C"
      },
      "outputs": [],
      "source": [
        "import numpy as np\n",
        "\n",
        "def balance_data(X, y):\n",
        "    \"\"\"\n",
        "    Balance the dataset by randomly undersampling the majority class.\n",
        "\n",
        "    Parameters:\n",
        "    - X (numpy.ndarray): Feature data.\n",
        "    - y (numpy.ndarray): Target labels.\n",
        "\n",
        "    Returns:\n",
        "    - X_balanced (numpy.ndarray): Balanced feature data.\n",
        "    - y_balanced (numpy.ndarray): Balanced target labels.\n",
        "    \"\"\"\n",
        "    # YOUR CODE HERE\n",
        "\n",
        "    # Find the unique classes and their counts\n",
        "    unique_classes, class_counts = np.unique(y, return_counts=True)\n",
        "\n",
        "    # Identify the majority and minority classes\n",
        "    majority_class = unique_classes[np.argmax(class_counts)]\n",
        "    minority_class = unique_classes[np.argmin(class_counts)]\n",
        "\n",
        "    # Find the indices of samples belonging to each class\n",
        "    majority_indices = np.where(y == majority_class)[0]\n",
        "    minority_indices = np.where(y == minority_class)[0]\n",
        "\n",
        "    # Randomly undersample majority class\n",
        "    num_minority_samples = len(minority_indices)\n",
        "    majority_indices_undersampled = np.random.choice(majority_indices, num_minority_samples, replace=False)\n",
        "\n",
        "    # Combine the minority and undersampled majority class indices\n",
        "    balanced_indices = np.concatenate((majority_indices_undersampled, minority_indices))\n",
        "\n",
        "    # Shuffle the indices to ensure randomness\n",
        "    np.random.shuffle(balanced_indices)\n",
        "\n",
        "    # Extract balanced data\n",
        "    X_balanced = X[balanced_indices]\n",
        "    y_balanced = y[balanced_indices]\n",
        "\n",
        "    return X_balanced, y_balanced\n",
        "\n",
        "    raise NotImplementedError()"
      ]
    },
    {
      "cell_type": "code",
      "execution_count": null,
      "metadata": {
        "deletable": false,
        "editable": false,
        "nbgrader": {
          "cell_type": "code",
          "checksum": "bf63a0b04b308eac0a19464ac0dec80a",
          "grade": true,
          "grade_id": "balance_test1",
          "locked": true,
          "points": 4,
          "schema_version": 3,
          "solution": false,
          "task": false
        },
        "colab": {
          "base_uri": "https://localhost:8080/"
        },
        "id": "TPYzTImvHX7C",
        "outputId": "849d720a-4d3b-482a-8a0e-f6e0d00feed8"
      },
      "outputs": [
        {
          "output_type": "stream",
          "name": "stdout",
          "text": [
            "[0 1 0 1]\n"
          ]
        }
      ],
      "source": [
        "# Passing this test case will give you 4 marks\n",
        "# Test case with imbalanced dataset\n",
        "X_test = np.array([[1, 2], [2, 3], [3, 4], [4, 5], [5, 6], [6, 7]])\n",
        "y_test = np.array([0, 0, 1, 1, 1, 1])\n",
        "\n",
        "X_balanced_test, y_balanced_test = balance_data(X_test, y_test)\n",
        "print(y_balanced_test)\n",
        "# Check if the balanced dataset has equal instances of each class\n",
        "unique_classes, class_counts = np.unique(y_balanced_test, return_counts=True)\n",
        "assert np.all(class_counts == class_counts[0]), \"Balanced dataset should have equal instances of each class\""
      ]
    },
    {
      "cell_type": "code",
      "execution_count": null,
      "metadata": {
        "deletable": false,
        "editable": false,
        "nbgrader": {
          "cell_type": "code",
          "checksum": "c18a0d0009af56e4382a72b758b3a89b",
          "grade": true,
          "grade_id": "balance_test2",
          "locked": true,
          "points": 5,
          "schema_version": 3,
          "solution": false,
          "task": false
        },
        "colab": {
          "base_uri": "https://localhost:8080/"
        },
        "id": "QAfml1DFHX7D",
        "outputId": "6fe89ff5-fb39-4761-a2f7-72657afbecbd"
      },
      "outputs": [
        {
          "output_type": "stream",
          "name": "stdout",
          "text": [
            "[0 1]\n"
          ]
        }
      ],
      "source": [
        "# Passing this test case will give you 5 marks\n",
        "# Test case with imbalanced dataset\n",
        "\n",
        "\n",
        "X_test = np.array([[1, 2], [2, 3], [3, 4], [4, 5], [5, 6], [6, 7]])\n",
        "y_test = np.array([0, 0, 0, 0, 0, 1])\n",
        "\n",
        "X_balanced_test, y_balanced_test = balance_data(X_test, y_test)\n",
        "print(y_balanced_test)\n",
        "# Check if the balanced dataset has equal instances of each class\n",
        "unique_classes, class_counts = np.unique(y_balanced_test, return_counts=True)\n",
        "assert np.all(class_counts == class_counts[0]), \"Balanced dataset should have equal instances of each class\""
      ]
    },
    {
      "cell_type": "code",
      "execution_count": null,
      "metadata": {
        "id": "pYmdvZTZHX7D"
      },
      "outputs": [],
      "source": []
    }
  ],
  "metadata": {
    "kernelspec": {
      "display_name": "Python 3",
      "language": "python",
      "name": "python3"
    },
    "language_info": {
      "codemirror_mode": {
        "name": "ipython",
        "version": 3
      },
      "file_extension": ".py",
      "mimetype": "text/x-python",
      "name": "python",
      "nbconvert_exporter": "python",
      "pygments_lexer": "ipython3",
      "version": "3.7.11"
    },
    "colab": {
      "provenance": [],
      "include_colab_link": true
    }
  },
  "nbformat": 4,
  "nbformat_minor": 0
}
